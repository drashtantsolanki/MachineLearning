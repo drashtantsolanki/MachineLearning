{
  "nbformat": 4,
  "nbformat_minor": 0,
  "metadata": {
    "colab": {
      "name": "wineQualityKNN.ipynb",
      "provenance": [],
      "authorship_tag": "ABX9TyOtdSmkSoQCcYIbyta3lwYG",
      "include_colab_link": true
    },
    "kernelspec": {
      "name": "python3",
      "display_name": "Python 3"
    }
  },
  "cells": [
    {
      "cell_type": "markdown",
      "metadata": {
        "id": "view-in-github",
        "colab_type": "text"
      },
      "source": [
        "<a href=\"https://colab.research.google.com/github/drashtantsolanki/MachineLearning/blob/main/wineQualityKNN.ipynb\" target=\"_parent\"><img src=\"https://colab.research.google.com/assets/colab-badge.svg\" alt=\"Open In Colab\"/></a>"
      ]
    },
    {
      "cell_type": "code",
      "metadata": {
        "id": "QXYpXY_rdLK5"
      },
      "source": [
        "import pandas as pd\r\n",
        "import numpy as np\r\n",
        "from  sklearn.model_selection import train_test_split\r\n",
        "from sklearn.neighbors import KNeighborsClassifier\r\n",
        "\r\n",
        "ds=pd.read_csv('/content/winequality-white.csv')\r\n",
        "ds"
      ],
      "execution_count": null,
      "outputs": []
    },
    {
      "cell_type": "code",
      "metadata": {
        "id": "Wk303oXeeP86"
      },
      "source": [
        "X=ds.drop(['quality'],axis=1).values\r\n",
        "Y=ds['quality'].values\r\n",
        "X_train,X_test,Y_train,Y_test=train_test_split(X,Y,random_state=0,test_size=0.2)"
      ],
      "execution_count": 11,
      "outputs": []
    },
    {
      "cell_type": "code",
      "metadata": {
        "id": "qHxjAoKGfBxo"
      },
      "source": [
        "from sklearn.preprocessing import StandardScaler\r\n",
        "sc_X=StandardScaler()\r\n",
        "X_train=sc_X.fit_transform(X_train)\r\n",
        "X_test=sc_X.transform(X_test)\r\n"
      ],
      "execution_count": 12,
      "outputs": []
    },
    {
      "cell_type": "code",
      "metadata": {
        "colab": {
          "base_uri": "https://localhost:8080/"
        },
        "id": "QSWAZ663iUAW",
        "outputId": "edb32dc6-4d16-48bb-c081-81f364a57880"
      },
      "source": [
        "import math \r\n",
        "math.sqrt(len(Y_test))"
      ],
      "execution_count": 14,
      "outputs": [
        {
          "output_type": "execute_result",
          "data": {
            "text/plain": [
              "31.304951684997057"
            ]
          },
          "metadata": {
            "tags": []
          },
          "execution_count": 14
        }
      ]
    },
    {
      "cell_type": "code",
      "metadata": {
        "colab": {
          "base_uri": "https://localhost:8080/"
        },
        "id": "rWypgiR6ihuS",
        "outputId": "0cc36de2-f64d-47d4-842d-d4172b85590b"
      },
      "source": [
        "cls=KNeighborsClassifier(n_neighbors=31,p=11,metric='euclidean')\r\n",
        "cls.fit(X_train,Y_train)"
      ],
      "execution_count": 48,
      "outputs": [
        {
          "output_type": "execute_result",
          "data": {
            "text/plain": [
              "KNeighborsClassifier(algorithm='auto', leaf_size=30, metric='euclidean',\n",
              "                     metric_params=None, n_jobs=None, n_neighbors=31, p=11,\n",
              "                     weights='uniform')"
            ]
          },
          "metadata": {
            "tags": []
          },
          "execution_count": 48
        }
      ]
    },
    {
      "cell_type": "code",
      "metadata": {
        "id": "td8jOHqSjC2U"
      },
      "source": [
        "y_pred=cls.predict(X_test)\r\n",
        "y_pred"
      ],
      "execution_count": null,
      "outputs": []
    },
    {
      "cell_type": "code",
      "metadata": {
        "id": "u5y-Th1gjN_K"
      },
      "source": [
        "from sklearn.metrics import confusion_matrix\r\n",
        "cm=confusion_matrix(Y_test,y_pred)\r\n",
        "cm"
      ],
      "execution_count": null,
      "outputs": []
    },
    {
      "cell_type": "code",
      "metadata": {
        "colab": {
          "base_uri": "https://localhost:8080/"
        },
        "id": "f_eddeLxjg18",
        "outputId": "3efa0fd9-1779-4ef1-b763-bfe51323f6d7"
      },
      "source": [
        "from sklearn.metrics import accuracy_score\r\n",
        "accuracy_score(Y_test,y_pred)"
      ],
      "execution_count": 52,
      "outputs": [
        {
          "output_type": "execute_result",
          "data": {
            "text/plain": [
              "0.5326530612244897"
            ]
          },
          "metadata": {
            "tags": []
          },
          "execution_count": 52
        }
      ]
    }
  ]
}