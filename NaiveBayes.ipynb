{
  "nbformat": 4,
  "nbformat_minor": 0,
  "metadata": {
    "colab": {
      "name": "Untitled2.ipynb",
      "provenance": [],
      "authorship_tag": "ABX9TyMCDc/Rza3G/sUfzIMW2ybw",
      "include_colab_link": true
    },
    "kernelspec": {
      "name": "python3",
      "display_name": "Python 3"
    }
  },
  "cells": [
    {
      "cell_type": "markdown",
      "metadata": {
        "id": "view-in-github",
        "colab_type": "text"
      },
      "source": [
        "<a href=\"https://colab.research.google.com/github/drashtantsolanki/MachineLearning/blob/main/NaiveBayes.ipynb\" target=\"_parent\"><img src=\"https://colab.research.google.com/assets/colab-badge.svg\" alt=\"Open In Colab\"/></a>"
      ]
    },
    {
      "cell_type": "code",
      "metadata": {
        "id": "RHItAKrD6Dcp"
      },
      "source": [
        "import pandas as pd\r\n",
        "import numpy as np\r\n",
        "from sklearn.model_selection import train_test_split\r\n",
        "from sklearn.naive_bayes import GaussianNB\r\n",
        "\r\n",
        "ds=pd.read_csv('/content/diabetes.csv');"
      ],
      "execution_count": 12,
      "outputs": []
    },
    {
      "cell_type": "code",
      "metadata": {
        "id": "laZPWECL7wHZ"
      },
      "source": [
        "#replaced zeros\r\n",
        "zeros_not_accepeted = ['Pregnancies','Glucose','BloodPressure','SkinThickness','Insulin','BMI']\r\n",
        "for column in zeros_not_accepeted:\r\n",
        "  ds[column]=ds[column].replace(0,np.NaN)\r\n",
        "  mean=int(ds[column].mean(skipna=True))\r\n",
        "  ds[column]=ds[column].replace(np.NaN,mean)"
      ],
      "execution_count": 7,
      "outputs": []
    },
    {
      "cell_type": "code",
      "metadata": {
        "id": "3fbHseJj8pXz"
      },
      "source": [
        "X=ds.iloc[:,0:8]\r\n",
        "Y=ds.iloc[:,8]\r\n",
        "X_train,X_test,Y_train,Y_test=train_test_split(X,Y,random_state=0,test_size=0.2)\r\n"
      ],
      "execution_count": null,
      "outputs": []
    },
    {
      "cell_type": "code",
      "metadata": {
        "id": "Z0T3eviT832n"
      },
      "source": [
        "from sklearn.preprocessing import StandardScaler\r\n",
        "sc_X=StandardScaler()\r\n",
        "X_train=sc_X.fit_transform(X_train)\r\n",
        "X_test=sc_X.transform(X_test)"
      ],
      "execution_count": 10,
      "outputs": []
    },
    {
      "cell_type": "code",
      "metadata": {
        "colab": {
          "base_uri": "https://localhost:8080/"
        },
        "id": "0HhsBQJE9FBP",
        "outputId": "0efb2d6c-f236-48b6-cd83-70ba9a1303b6"
      },
      "source": [
        "import math\r\n",
        "math.sqrt(len(Y_test))"
      ],
      "execution_count": 11,
      "outputs": [
        {
          "output_type": "execute_result",
          "data": {
            "text/plain": [
              "12.409673645990857"
            ]
          },
          "metadata": {
            "tags": []
          },
          "execution_count": 11
        }
      ]
    },
    {
      "cell_type": "code",
      "metadata": {
        "colab": {
          "base_uri": "https://localhost:8080/"
        },
        "id": "9Y358hUJ9H3W",
        "outputId": "ef82a62a-ceab-4e59-c996-a087a4f75fd5"
      },
      "source": [
        "cls=GaussianNB()\r\n",
        "cls.fit(X_train,Y_train)"
      ],
      "execution_count": 13,
      "outputs": [
        {
          "output_type": "execute_result",
          "data": {
            "text/plain": [
              "GaussianNB(priors=None, var_smoothing=1e-09)"
            ]
          },
          "metadata": {
            "tags": []
          },
          "execution_count": 13
        }
      ]
    },
    {
      "cell_type": "code",
      "metadata": {
        "id": "vpCjPxuF9c82"
      },
      "source": [
        "y_pred=cls.predict(X_test)\r\n",
        "y_pred"
      ],
      "execution_count": null,
      "outputs": []
    },
    {
      "cell_type": "code",
      "metadata": {
        "colab": {
          "base_uri": "https://localhost:8080/"
        },
        "id": "0UFjP4P69lwi",
        "outputId": "b90d26e6-4828-4d6d-907b-7eb1ebf74085"
      },
      "source": [
        "from sklearn.metrics import confusion_matrix\r\n",
        "cm=confusion_matrix(Y_test,y_pred)\r\n",
        "cm"
      ],
      "execution_count": 17,
      "outputs": [
        {
          "output_type": "execute_result",
          "data": {
            "text/plain": [
              "array([[92, 15],\n",
              "       [18, 29]])"
            ]
          },
          "metadata": {
            "tags": []
          },
          "execution_count": 17
        }
      ]
    },
    {
      "cell_type": "code",
      "metadata": {
        "colab": {
          "base_uri": "https://localhost:8080/"
        },
        "id": "Ejpjvwo0-GIC",
        "outputId": "fa4174fc-fc14-4b67-bf43-7c3a287eec40"
      },
      "source": [
        "from sklearn.metrics import accuracy_score\r\n",
        "print(accuracy_score(Y_test,y_pred))"
      ],
      "execution_count": 18,
      "outputs": [
        {
          "output_type": "stream",
          "text": [
            "0.7857142857142857\n"
          ],
          "name": "stdout"
        }
      ]
    }
  ]
}