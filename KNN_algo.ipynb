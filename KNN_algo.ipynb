{
  "nbformat": 4,
  "nbformat_minor": 0,
  "metadata": {
    "colab": {
      "name": "Untitled0.ipynb",
      "provenance": [],
      "authorship_tag": "ABX9TyMWa3DBZxRsebmsYxtNp6nF",
      "include_colab_link": true
    },
    "kernelspec": {
      "name": "python3",
      "display_name": "Python 3"
    }
  },
  "cells": [
    {
      "cell_type": "markdown",
      "metadata": {
        "id": "view-in-github",
        "colab_type": "text"
      },
      "source": [
        "<a href=\"https://colab.research.google.com/github/drashtantsolanki/MachineLearning/blob/main/KNN_algo.ipynb\" target=\"_parent\"><img src=\"https://colab.research.google.com/assets/colab-badge.svg\" alt=\"Open In Colab\"/></a>"
      ]
    },
    {
      "cell_type": "code",
      "metadata": {
        "id": "Z2vb6CzAxKqE"
      },
      "source": [
        "import numpy as np\r\n",
        "import pandas as pd\r\n",
        "from sklearn.model_selection import train_test_split\r\n",
        "from sklearn.preprocessing import StandardScaler\r\n",
        "from sklearn.neighbors import KNeighborsClassifier\r\n",
        "from sklearn.metrics import confusion_matrix\r\n",
        "from sklearn.metrics import f1_score\r\n",
        "from sklearn.metrics import accuracy_score"
      ],
      "execution_count": 5,
      "outputs": []
    },
    {
      "cell_type": "code",
      "metadata": {
        "id": "4JadFnOX19Y-"
      },
      "source": [
        "ds=pd.read_csv('./diabetes.csv');\r\n",
        "ds.head()"
      ],
      "execution_count": null,
      "outputs": []
    },
    {
      "cell_type": "code",
      "metadata": {
        "id": "5t6DJkHV2LUP"
      },
      "source": [
        "#replaced zeros\r\n",
        "zeros_not_accepeted = ['Pregnancies','Glucose','BloodPressure','SkinThickness','Insulin','BMI']\r\n",
        "for column in zeros_not_accepeted:\r\n",
        "  ds[column]=ds[column].replace(0,np.NaN)\r\n",
        "  mean=int(ds[column].mean(skipna=True))\r\n",
        "  ds[column]=ds[column].replace(np.NaN,mean)\r\n"
      ],
      "execution_count": 15,
      "outputs": []
    },
    {
      "cell_type": "code",
      "metadata": {
        "id": "zgKRiX5i7rW2"
      },
      "source": [
        "X=ds.iloc[:,0:8]\r\n",
        "Y=ds.iloc[:,8]\r\n",
        "X_train,X_test,Y_train,Y_test=train_test_split(X,Y,random_state=0,test_size=0.2)"
      ],
      "execution_count": 27,
      "outputs": []
    },
    {
      "cell_type": "code",
      "metadata": {
        "id": "uI48oV05-cpG"
      },
      "source": [
        "sc_X=StandardScaler()\r\n",
        "X_train=sc_X.fit_transform(X_train)\r\n",
        "X_test=sc_X.transform(X_test)"
      ],
      "execution_count": 33,
      "outputs": []
    },
    {
      "cell_type": "code",
      "metadata": {
        "colab": {
          "base_uri": "https://localhost:8080/"
        },
        "id": "NqIlzUt3FonS",
        "outputId": "3ca73176-fa9e-4b67-9796-affd7bd9eecc"
      },
      "source": [
        "import math\r\n",
        "math.sqrt(len(Y_train))"
      ],
      "execution_count": 37,
      "outputs": [
        {
          "output_type": "execute_result",
          "data": {
            "text/plain": [
              "24.779023386727733"
            ]
          },
          "metadata": {
            "tags": []
          },
          "execution_count": 37
        }
      ]
    },
    {
      "cell_type": "code",
      "metadata": {
        "colab": {
          "base_uri": "https://localhost:8080/"
        },
        "id": "mHQrQPLeF72K",
        "outputId": "2b331763-38a1-41dc-f2ce-ad6c6a0a4b75"
      },
      "source": [
        "import math\r\n",
        "math.sqrt(len(Y_test))"
      ],
      "execution_count": 38,
      "outputs": [
        {
          "output_type": "execute_result",
          "data": {
            "text/plain": [
              "12.409673645990857"
            ]
          },
          "metadata": {
            "tags": []
          },
          "execution_count": 38
        }
      ]
    },
    {
      "cell_type": "code",
      "metadata": {
        "colab": {
          "base_uri": "https://localhost:8080/"
        },
        "id": "NgPNdosWGHC6",
        "outputId": "3c0f1bb0-2540-4a44-b97e-62185a8b6fec"
      },
      "source": [
        "cls=KNeighborsClassifier(n_neighbors=11,p=2,metric='euclidean')\r\n",
        "cls.fit(X_train,Y_train)\r\n",
        "#n_neighbors = 11 bcoz Y_test=12 and its even so 12-1=11\r\n",
        "#p=2 because we want to determine whether the patient is suffering from diabetes or not"
      ],
      "execution_count": 64,
      "outputs": [
        {
          "output_type": "execute_result",
          "data": {
            "text/plain": [
              "KNeighborsClassifier(algorithm='auto', leaf_size=30, metric='euclidean',\n",
              "                     metric_params=None, n_jobs=None, n_neighbors=11, p=2,\n",
              "                     weights='uniform')"
            ]
          },
          "metadata": {
            "tags": []
          },
          "execution_count": 64
        }
      ]
    },
    {
      "cell_type": "code",
      "metadata": {
        "colab": {
          "base_uri": "https://localhost:8080/"
        },
        "id": "7NOIt4wcHe0q",
        "outputId": "462bf071-011a-4ab9-d286-435e5acb3940"
      },
      "source": [
        "y_pred=cls.predict(X_test)\r\n",
        "y_pred"
      ],
      "execution_count": 65,
      "outputs": [
        {
          "output_type": "execute_result",
          "data": {
            "text/plain": [
              "array([1, 0, 0, 1, 0, 0, 1, 1, 0, 0, 1, 1, 0, 0, 0, 0, 1, 0, 0, 0, 1, 0,\n",
              "       0, 0, 0, 0, 0, 1, 0, 0, 1, 0, 0, 1, 0, 1, 0, 0, 0, 1, 0, 0, 0, 1,\n",
              "       1, 0, 0, 0, 0, 0, 1, 0, 1, 0, 0, 0, 0, 1, 0, 1, 1, 0, 0, 0, 1, 1,\n",
              "       1, 0, 1, 0, 0, 0, 0, 1, 1, 0, 0, 1, 0, 0, 0, 0, 0, 0, 0, 0, 0, 0,\n",
              "       1, 0, 0, 0, 0, 0, 1, 0, 0, 1, 1, 1, 0, 0, 0, 0, 1, 1, 0, 1, 0, 1,\n",
              "       0, 0, 1, 1, 1, 1, 0, 0, 0, 1, 0, 0, 0, 0, 0, 0, 0, 0, 0, 0, 0, 0,\n",
              "       0, 0, 0, 0, 0, 0, 0, 0, 0, 1, 0, 0, 1, 0, 0, 0, 0, 0, 0, 0, 0, 0])"
            ]
          },
          "metadata": {
            "tags": []
          },
          "execution_count": 65
        }
      ]
    },
    {
      "cell_type": "code",
      "metadata": {
        "colab": {
          "base_uri": "https://localhost:8080/"
        },
        "id": "z664ptD_JIgm",
        "outputId": "eb4d5d4b-599f-4c89-83cb-8df9a4997a8c"
      },
      "source": [
        "cm=confusion_matrix(Y_test,y_pred)\r\n",
        "cm"
      ],
      "execution_count": 68,
      "outputs": [
        {
          "output_type": "execute_result",
          "data": {
            "text/plain": [
              "array([[94, 13],\n",
              "       [17, 30]])"
            ]
          },
          "metadata": {
            "tags": []
          },
          "execution_count": 68
        }
      ]
    },
    {
      "cell_type": "code",
      "metadata": {
        "colab": {
          "base_uri": "https://localhost:8080/"
        },
        "id": "EjP0SNDyJWhr",
        "outputId": "afedd013-311f-4442-f0d2-914242d4a3bf"
      },
      "source": [
        "print(f1_score(Y_test,y_pred))"
      ],
      "execution_count": 67,
      "outputs": [
        {
          "output_type": "stream",
          "text": [
            "0.6666666666666666\n"
          ],
          "name": "stdout"
        }
      ]
    },
    {
      "cell_type": "code",
      "metadata": {
        "colab": {
          "base_uri": "https://localhost:8080/"
        },
        "id": "F-2TMmuJJfQf",
        "outputId": "015dcb86-d17a-4a28-c2f5-2b7769ec7ab9"
      },
      "source": [
        "print(accuracy_score(Y_test,y_pred))"
      ],
      "execution_count": 66,
      "outputs": [
        {
          "output_type": "stream",
          "text": [
            "0.8051948051948052\n"
          ],
          "name": "stdout"
        }
      ]
    }
  ]
}