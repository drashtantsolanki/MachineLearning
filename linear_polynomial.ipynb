{
  "nbformat": 4,
  "nbformat_minor": 0,
  "metadata": {
    "colab": {
      "name": "linear_polynomial.ipynb",
      "provenance": [],
      "authorship_tag": "ABX9TyOGD7iYmW5yQvNcGcOtQOSF",
      "include_colab_link": true
    },
    "kernelspec": {
      "name": "python3",
      "display_name": "Python 3"
    }
  },
  "cells": [
    {
      "cell_type": "markdown",
      "metadata": {
        "id": "view-in-github",
        "colab_type": "text"
      },
      "source": [
        "<a href=\"https://colab.research.google.com/github/drashtantsolanki/MachineLearning/blob/main/linear_polynomial.ipynb\" target=\"_parent\"><img src=\"https://colab.research.google.com/assets/colab-badge.svg\" alt=\"Open In Colab\"/></a>"
      ]
    },
    {
      "cell_type": "code",
      "metadata": {
        "id": "z2zU3uh3HBFs"
      },
      "source": [
        "import pandas as pd\r\n",
        "import numpy as np\r\n",
        "import matplotlib.pyplot as plt\r\n",
        "from sklearn import linear_model\r\n",
        "from sklearn.model_selection import train_test_split"
      ],
      "execution_count": 4,
      "outputs": []
    },
    {
      "cell_type": "code",
      "metadata": {
        "colab": {
          "base_uri": "https://localhost:8080/"
        },
        "id": "VWfgJEFLHJ0C",
        "outputId": "6ccc6c95-e2fb-4c82-eecd-88837a08d8f5"
      },
      "source": [
        "data=pd.read_csv('/content/Salaries.csv')\r\n",
        "x=data['Level'].values\r\n",
        "x=x.reshape(-1,1)\r\n",
        "y=data['Salary'].values\r\n",
        "x"
      ],
      "execution_count": 25,
      "outputs": [
        {
          "output_type": "execute_result",
          "data": {
            "text/plain": [
              "array([[ 1],\n",
              "       [ 2],\n",
              "       [ 3],\n",
              "       [ 4],\n",
              "       [ 5],\n",
              "       [ 6],\n",
              "       [ 7],\n",
              "       [ 8],\n",
              "       [ 9],\n",
              "       [10]])"
            ]
          },
          "metadata": {
            "tags": []
          },
          "execution_count": 25
        }
      ]
    },
    {
      "cell_type": "code",
      "metadata": {
        "id": "ntGkKp-2Hbqy"
      },
      "source": [
        "from sklearn.model_selection import train_test_split\r\n",
        "x_train,x_test,y_train,y_test = train_test_split(x,y,test_size=0.2,random_state=0)"
      ],
      "execution_count": 26,
      "outputs": []
    },
    {
      "cell_type": "code",
      "metadata": {
        "colab": {
          "base_uri": "https://localhost:8080/"
        },
        "id": "LlxZcJgaHefH",
        "outputId": "5d67694a-742f-4caf-96a3-6e7e6f02c66c"
      },
      "source": [
        "from sklearn.linear_model import LinearRegression\r\n",
        "model=LinearRegression()\r\n",
        "model.fit(x_train,y_train)"
      ],
      "execution_count": 9,
      "outputs": [
        {
          "output_type": "execute_result",
          "data": {
            "text/plain": [
              "LinearRegression(copy_X=True, fit_intercept=True, n_jobs=None, normalize=False)"
            ]
          },
          "metadata": {
            "tags": []
          },
          "execution_count": 9
        }
      ]
    },
    {
      "cell_type": "code",
      "metadata": {
        "colab": {
          "base_uri": "https://localhost:8080/",
          "height": 295
        },
        "id": "GmgLbycWHiST",
        "outputId": "541f70ab-ec95-4312-e362-ff64aaa7cc75"
      },
      "source": [
        "plt.scatter(x_train,y_train,color='red')\r\n",
        "plt.plot(x_train,model.predict(x_train),color='blue')\r\n",
        "plt.title('Linear Regression')\r\n",
        "plt.xlabel('Level')\r\n",
        "plt.ylabel('Salary')\r\n",
        "plt.show()"
      ],
      "execution_count": 10,
      "outputs": [
        {
          "output_type": "display_data",
          "data": {
            "image/png": "[encoded data removed]",
            "text/plain": [
              "<Figure size 432x288 with 1 Axes>"
            ]
          },
          "metadata": {
            "tags": [],
            "needs_background": "light"
          }
        }
      ]
    },
    {
      "cell_type": "code",
      "metadata": {
        "colab": {
          "base_uri": "https://localhost:8080/"
        },
        "id": "S6ugeUmfHnpt",
        "outputId": "453d0d18-094c-4c96-dc0c-b0696847d1de"
      },
      "source": [
        "#add polynomial term to equation/model\r\n",
        "from sklearn.preprocessing import PolynomialFeatures\r\n",
        "poly_reg=PolynomialFeatures(degree=4)\r\n",
        "x_poly=poly_reg.fit_transform(x)\r\n",
        "x_poly\r\n",
        "\r\n",
        "#y=a0+a1x+a2x^2"
      ],
      "execution_count": 11,
      "outputs": [
        {
          "output_type": "execute_result",
          "data": {
            "text/plain": [
              "array([[1.000e+00, 1.000e+00, 1.000e+00, 1.000e+00, 1.000e+00],\n",
              "       [1.000e+00, 2.000e+00, 4.000e+00, 8.000e+00, 1.600e+01],\n",
              "       [1.000e+00, 3.000e+00, 9.000e+00, 2.700e+01, 8.100e+01],\n",
              "       [1.000e+00, 4.000e+00, 1.600e+01, 6.400e+01, 2.560e+02],\n",
              "       [1.000e+00, 5.000e+00, 2.500e+01, 1.250e+02, 6.250e+02],\n",
              "       [1.000e+00, 6.000e+00, 3.600e+01, 2.160e+02, 1.296e+03],\n",
              "       [1.000e+00, 7.000e+00, 4.900e+01, 3.430e+02, 2.401e+03],\n",
              "       [1.000e+00, 8.000e+00, 6.400e+01, 5.120e+02, 4.096e+03],\n",
              "       [1.000e+00, 9.000e+00, 8.100e+01, 7.290e+02, 6.561e+03],\n",
              "       [1.000e+00, 1.000e+01, 1.000e+02, 1.000e+03, 1.000e+04]])"
            ]
          },
          "metadata": {
            "tags": []
          },
          "execution_count": 11
        }
      ]
    },
    {
      "cell_type": "code",
      "metadata": {
        "colab": {
          "base_uri": "https://localhost:8080/"
        },
        "id": "c3FnWy5DHpLB",
        "outputId": "83ef702c-2fcf-45bb-d52d-8533b596a38e"
      },
      "source": [
        "#fit the polynomial regression model\r\n",
        "pol_reg=LinearRegression()\r\n",
        "pol_reg.fit(x_poly, y)"
      ],
      "execution_count": 12,
      "outputs": [
        {
          "output_type": "execute_result",
          "data": {
            "text/plain": [
              "LinearRegression(copy_X=True, fit_intercept=True, n_jobs=None, normalize=False)"
            ]
          },
          "metadata": {
            "tags": []
          },
          "execution_count": 12
        }
      ]
    },
    {
      "cell_type": "code",
      "metadata": {
        "colab": {
          "base_uri": "https://localhost:8080/",
          "height": 295
        },
        "id": "h5kDMZkwHzip",
        "outputId": "80fc1ba2-bc2d-4043-c7f1-a33978643fff"
      },
      "source": [
        "plt.scatter(x,y, color='red')\r\n",
        "  #plt.plot(X, poly_reg.predict(poly_reg.fit_transform(X)),color='blue')\r\n",
        "plt.plot(x, pol_reg.predict(poly_reg.fit_transform(x)), color='blue')\r\n",
        "plt.title('Polynomial Regression')\r\n",
        "plt.xlabel('Level')\r\n",
        "plt.ylabel('Salary')\r\n",
        "plt.show()"
      ],
      "execution_count": 13,
      "outputs": [
        {
          "output_type": "display_data",
          "data": {
            "image/png": "[encoded data removed]",
            "text/plain": [
              "<Figure size 432x288 with 1 Axes>"
            ]
          },
          "metadata": {
            "tags": [],
            "needs_background": "light"
          }
        }
      ]
    },
    {
      "cell_type": "code",
      "metadata": {
        "colab": {
          "base_uri": "https://localhost:8080/"
        },
        "id": "kTEa9VzLH2OP",
        "outputId": "a9917f58-ebd7-4e14-f0dd-47f298dde3ec"
      },
      "source": [
        "model.predict([[5.5]])"
      ],
      "execution_count": 14,
      "outputs": [
        {
          "output_type": "execute_result",
          "data": {
            "text/plain": [
              "array([252274.95107632])"
            ]
          },
          "metadata": {
            "tags": []
          },
          "execution_count": 14
        }
      ]
    },
    {
      "cell_type": "code",
      "metadata": {
        "colab": {
          "base_uri": "https://localhost:8080/"
        },
        "id": "1OJ3yRXwH3hT",
        "outputId": "5bd33b8e-ee6c-4b78-b260-139357402ca4"
      },
      "source": [
        "pol_reg.predict(poly_reg.fit_transform([[5.5]]))"
      ],
      "execution_count": 15,
      "outputs": [
        {
          "output_type": "execute_result",
          "data": {
            "text/plain": [
              "array([132148.43750002])"
            ]
          },
          "metadata": {
            "tags": []
          },
          "execution_count": 15
        }
      ]
    },
    {
      "cell_type": "code",
      "metadata": {
        "colab": {
          "base_uri": "https://localhost:8080/"
        },
        "id": "cUxOLHXDIETX",
        "outputId": "03df9153-36a3-45f0-963d-e4ffcb8d360c"
      },
      "source": [
        "y_pred=model.predict(x_test)\r\n",
        "from sklearn.metrics import r2_score\r\n",
        "r2=r2_score(y_test,y_pred)\r\n",
        "r2"
      ],
      "execution_count": 19,
      "outputs": [
        {
          "output_type": "execute_result",
          "data": {
            "text/plain": [
              "0.9779215014976274"
            ]
          },
          "metadata": {
            "tags": []
          },
          "execution_count": 19
        }
      ]
    },
    {
      "cell_type": "code",
      "metadata": {
        "colab": {
          "base_uri": "https://localhost:8080/"
        },
        "id": "j7KNwF-oIm4b",
        "outputId": "48110959-0122-4a55-f446-67758dc76e1d"
      },
      "source": [
        "y_pred=pol_reg.predict(x_poly)\r\n",
        "from sklearn.metrics import r2_score\r\n",
        "r2=r2_score(y,y_pred)\r\n",
        "r2"
      ],
      "execution_count": 23,
      "outputs": [
        {
          "output_type": "execute_result",
          "data": {
            "text/plain": [
              "0.9973922891706615"
            ]
          },
          "metadata": {
            "tags": []
          },
          "execution_count": 23
        }
      ]
    }
  ]
}