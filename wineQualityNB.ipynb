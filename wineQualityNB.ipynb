{
  "nbformat": 4,
  "nbformat_minor": 0,
  "metadata": {
    "colab": {
      "name": "wineQualityNB.ipynb",
      "provenance": [],
      "authorship_tag": "ABX9TyPTGpXsYrdoSmg0loQc6IG2",
      "include_colab_link": true
    },
    "kernelspec": {
      "name": "python3",
      "display_name": "Python 3"
    }
  },
  "cells": [
    {
      "cell_type": "markdown",
      "metadata": {
        "id": "view-in-github",
        "colab_type": "text"
      },
      "source": [
        "<a href=\"https://colab.research.google.com/github/drashtantsolanki/MachineLearning/blob/main/wineQualityNB.ipynb\" target=\"_parent\"><img src=\"https://colab.research.google.com/assets/colab-badge.svg\" alt=\"Open In Colab\"/></a>"
      ]
    },
    {
      "cell_type": "code",
      "metadata": {
        "id": "pR6c2JRkkNiC"
      },
      "source": [
        "import pandas as pd\r\n",
        "import numpy as np\r\n",
        "from  sklearn.model_selection import train_test_split\r\n",
        "from sklearn.naive_bayes import GaussianNB\r\n",
        "ds=pd.read_csv('/content/winequality-white.csv')\r\n",
        "ds"
      ],
      "execution_count": null,
      "outputs": []
    },
    {
      "cell_type": "code",
      "metadata": {
        "id": "mbZr_D7YqRxI"
      },
      "source": [
        "X=ds.drop(['quality'],axis=1).values\r\n",
        "Y=ds['quality'].values\r\n",
        "X_train,X_test,Y_train,Y_test=train_test_split(X,Y,random_state=0,test_size=0.2)"
      ],
      "execution_count": 2,
      "outputs": []
    },
    {
      "cell_type": "code",
      "metadata": {
        "id": "55ZL3cPOqV57"
      },
      "source": [
        "from sklearn.preprocessing import StandardScaler\r\n",
        "sc_X=StandardScaler()\r\n",
        "X_train=sc_X.fit_transform(X_train)\r\n",
        "X_test=sc_X.transform(X_test)"
      ],
      "execution_count": 3,
      "outputs": []
    },
    {
      "cell_type": "code",
      "metadata": {
        "colab": {
          "base_uri": "https://localhost:8080/"
        },
        "id": "S6rR6dx-qXlj",
        "outputId": "93e4ddf8-dd6b-4366-8588-1c34b349b537"
      },
      "source": [
        "cls=GaussianNB()\r\n",
        "cls.fit(X_train,Y_train)"
      ],
      "execution_count": 4,
      "outputs": [
        {
          "output_type": "execute_result",
          "data": {
            "text/plain": [
              "GaussianNB(priors=None, var_smoothing=1e-09)"
            ]
          },
          "metadata": {
            "tags": []
          },
          "execution_count": 4
        }
      ]
    },
    {
      "cell_type": "code",
      "metadata": {
        "id": "0imCFnaQqiaG"
      },
      "source": [
        "y_pred=cls.predict(X_test)\r\n",
        "y_pred"
      ],
      "execution_count": null,
      "outputs": []
    },
    {
      "cell_type": "code",
      "metadata": {
        "colab": {
          "base_uri": "https://localhost:8080/"
        },
        "id": "NgaAFc91qvOf",
        "outputId": "c933a884-803b-4a3d-852e-7a64f9227506"
      },
      "source": [
        "from sklearn.metrics import confusion_matrix\r\n",
        "cm=confusion_matrix(Y_test,y_pred)\r\n",
        "cm"
      ],
      "execution_count": 7,
      "outputs": [
        {
          "output_type": "execute_result",
          "data": {
            "text/plain": [
              "array([[  3,   3,   0,   2,   1,   0],\n",
              "       [  1,  11,  17,  18,   4,   0],\n",
              "       [  2,  11, 151, 104,  27,   0],\n",
              "       [  6,   4, 105, 150, 143,   1],\n",
              "       [  0,   0,  18,  45, 117,   3],\n",
              "       [  0,   0,   1,  12,  19,   1]])"
            ]
          },
          "metadata": {
            "tags": []
          },
          "execution_count": 7
        }
      ]
    },
    {
      "cell_type": "code",
      "metadata": {
        "colab": {
          "base_uri": "https://localhost:8080/"
        },
        "id": "EpqkVA3HrFKw",
        "outputId": "49ba2a23-fcb6-4c2d-fdc7-664814e30c5f"
      },
      "source": [
        "from sklearn.metrics import accuracy_score\r\n",
        "print(accuracy_score(Y_test,y_pred))"
      ],
      "execution_count": 8,
      "outputs": [
        {
          "output_type": "stream",
          "text": [
            "0.4418367346938776\n"
          ],
          "name": "stdout"
        }
      ]
    }
  ]
}