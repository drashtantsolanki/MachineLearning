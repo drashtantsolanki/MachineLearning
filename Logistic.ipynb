{
  "nbformat": 4,
  "nbformat_minor": 0,
  "metadata": {
    "colab": {
      "name": "Logistic.ipynb",
      "provenance": [],
      "authorship_tag": "ABX9TyMZ0KBOHccdfpj312sAqorP",
      "include_colab_link": true
    },
    "kernelspec": {
      "name": "python3",
      "display_name": "Python 3"
    }
  },
  "cells": [
    {
      "cell_type": "markdown",
      "metadata": {
        "id": "view-in-github",
        "colab_type": "text"
      },
      "source": [
        "<a href=\"https://colab.research.google.com/github/drashtantsolanki/MachineLearning/blob/main/Logistic.ipynb\" target=\"_parent\"><img src=\"https://colab.research.google.com/assets/colab-badge.svg\" alt=\"Open In Colab\"/></a>"
      ]
    },
    {
      "cell_type": "code",
      "metadata": {
        "id": "XFxmE2TfUXH2"
      },
      "source": [
        "import pandas as pd\r\n",
        "import numpy as np"
      ],
      "execution_count": 3,
      "outputs": []
    },
    {
      "cell_type": "code",
      "metadata": {
        "colab": {
          "base_uri": "https://localhost:8080/",
          "height": 261
        },
        "id": "TOve9vBUv43n",
        "outputId": "4c4a6b62-76d3-491a-8701-b1ab47622dbe"
      },
      "source": [
        "ds=pd.read_csv('/content/winequality-white.csv')\r\n",
        "ds.head()"
      ],
      "execution_count": 17,
      "outputs": [
        {
          "output_type": "execute_result",
          "data": {
            "text/html": [
              "<div>\n",
              "<style scoped>\n",
              "    .dataframe tbody tr th:only-of-type {\n",
              "        vertical-align: middle;\n",
              "    }\n",
              "\n",
              "    .dataframe tbody tr th {\n",
              "        vertical-align: top;\n",
              "    }\n",
              "\n",
              "    .dataframe thead th {\n",
              "        text-align: right;\n",
              "    }\n",
              "</style>\n",
              "<table border=\"1\" class=\"dataframe\">\n",
              "  <thead>\n",
              "    <tr style=\"text-align: right;\">\n",
              "      <th></th>\n",
              "      <th>fixed acidity</th>\n",
              "      <th>volatile acidity</th>\n",
              "      <th>citric acid</th>\n",
              "      <th>residual sugar</th>\n",
              "      <th>chlorides</th>\n",
              "      <th>free sulfur dioxide</th>\n",
              "      <th>total sulfur dioxide</th>\n",
              "      <th>density</th>\n",
              "      <th>pH</th>\n",
              "      <th>sulphates</th>\n",
              "      <th>alcohol</th>\n",
              "      <th>quality</th>\n",
              "    </tr>\n",
              "  </thead>\n",
              "  <tbody>\n",
              "    <tr>\n",
              "      <th>0</th>\n",
              "      <td>7.0</td>\n",
              "      <td>0.27</td>\n",
              "      <td>0.36</td>\n",
              "      <td>20.7</td>\n",
              "      <td>0.045</td>\n",
              "      <td>45.0</td>\n",
              "      <td>170.0</td>\n",
              "      <td>1.0010</td>\n",
              "      <td>3.00</td>\n",
              "      <td>0.45</td>\n",
              "      <td>8.8</td>\n",
              "      <td>6</td>\n",
              "    </tr>\n",
              "    <tr>\n",
              "      <th>1</th>\n",
              "      <td>6.3</td>\n",
              "      <td>0.30</td>\n",
              "      <td>0.34</td>\n",
              "      <td>1.6</td>\n",
              "      <td>0.049</td>\n",
              "      <td>14.0</td>\n",
              "      <td>132.0</td>\n",
              "      <td>0.9940</td>\n",
              "      <td>3.30</td>\n",
              "      <td>0.49</td>\n",
              "      <td>9.5</td>\n",
              "      <td>6</td>\n",
              "    </tr>\n",
              "    <tr>\n",
              "      <th>2</th>\n",
              "      <td>8.1</td>\n",
              "      <td>0.28</td>\n",
              "      <td>0.40</td>\n",
              "      <td>6.9</td>\n",
              "      <td>0.050</td>\n",
              "      <td>30.0</td>\n",
              "      <td>97.0</td>\n",
              "      <td>0.9951</td>\n",
              "      <td>3.26</td>\n",
              "      <td>0.44</td>\n",
              "      <td>10.1</td>\n",
              "      <td>6</td>\n",
              "    </tr>\n",
              "    <tr>\n",
              "      <th>3</th>\n",
              "      <td>7.2</td>\n",
              "      <td>0.23</td>\n",
              "      <td>0.32</td>\n",
              "      <td>8.5</td>\n",
              "      <td>0.058</td>\n",
              "      <td>47.0</td>\n",
              "      <td>186.0</td>\n",
              "      <td>0.9956</td>\n",
              "      <td>3.19</td>\n",
              "      <td>0.40</td>\n",
              "      <td>9.9</td>\n",
              "      <td>6</td>\n",
              "    </tr>\n",
              "    <tr>\n",
              "      <th>4</th>\n",
              "      <td>7.2</td>\n",
              "      <td>0.23</td>\n",
              "      <td>0.32</td>\n",
              "      <td>8.5</td>\n",
              "      <td>0.058</td>\n",
              "      <td>47.0</td>\n",
              "      <td>186.0</td>\n",
              "      <td>0.9956</td>\n",
              "      <td>3.19</td>\n",
              "      <td>0.40</td>\n",
              "      <td>9.9</td>\n",
              "      <td>6</td>\n",
              "    </tr>\n",
              "  </tbody>\n",
              "</table>\n",
              "</div>"
            ],
            "text/plain": [
              "   fixed acidity  volatile acidity  citric acid  ...  sulphates  alcohol  quality\n",
              "0            7.0              0.27         0.36  ...       0.45      8.8        6\n",
              "1            6.3              0.30         0.34  ...       0.49      9.5        6\n",
              "2            8.1              0.28         0.40  ...       0.44     10.1        6\n",
              "3            7.2              0.23         0.32  ...       0.40      9.9        6\n",
              "4            7.2              0.23         0.32  ...       0.40      9.9        6\n",
              "\n",
              "[5 rows x 12 columns]"
            ]
          },
          "metadata": {
            "tags": []
          },
          "execution_count": 17
        }
      ]
    },
    {
      "cell_type": "code",
      "metadata": {
        "colab": {
          "base_uri": "https://localhost:8080/"
        },
        "id": "77g-rIAuwptM",
        "outputId": "80ee97c9-66dd-4cce-9343-70462786d128"
      },
      "source": [
        "X=ds.iloc[:,:11].values\r\n",
        "Y=ds.iloc[:,11].values\r\n",
        "print(X.shape)\r\n",
        "print(Y.shape)"
      ],
      "execution_count": 18,
      "outputs": [
        {
          "output_type": "stream",
          "text": [
            "(4898, 11)\n",
            "(4898,)\n"
          ],
          "name": "stdout"
        }
      ]
    },
    {
      "cell_type": "code",
      "metadata": {
        "id": "ky_qM38JxGWc"
      },
      "source": [
        "from sklearn.model_selection import train_test_split\r\n",
        "x_train,x_test,y_train,y_test=train_test_split(X,Y,test_size=0.20,random_state=0)"
      ],
      "execution_count": 19,
      "outputs": []
    },
    {
      "cell_type": "code",
      "metadata": {
        "id": "G9nilwvAzKN3"
      },
      "source": [
        "from sklearn.preprocessing import StandardScaler\r\n",
        "sc=StandardScaler()\r\n",
        "x_train=sc.fit_transform(x_train)\r\n",
        "x_test=sc.fit_transform(x_test)"
      ],
      "execution_count": 20,
      "outputs": []
    },
    {
      "cell_type": "code",
      "metadata": {
        "colab": {
          "base_uri": "https://localhost:8080/"
        },
        "id": "MsFNu7oMzgre",
        "outputId": "65cf08b3-82fd-4fce-ba44-c1275f1a4a97"
      },
      "source": [
        "from sklearn.linear_model import LogisticRegression\r\n",
        "model=LogisticRegression()\r\n",
        "model.fit(x_train,y_train)"
      ],
      "execution_count": 23,
      "outputs": [
        {
          "output_type": "stream",
          "text": [
            "/usr/local/lib/python3.6/dist-packages/sklearn/linear_model/_logistic.py:940: ConvergenceWarning: lbfgs failed to converge (status=1):\n",
            "STOP: TOTAL NO. of ITERATIONS REACHED LIMIT.\n",
            "\n",
            "Increase the number of iterations (max_iter) or scale the data as shown in:\n",
            "    https://scikit-learn.org/stable/modules/preprocessing.html\n",
            "Please also refer to the documentation for alternative solver options:\n",
            "    https://scikit-learn.org/stable/modules/linear_model.html#logistic-regression\n",
            "  extra_warning_msg=_LOGISTIC_SOLVER_CONVERGENCE_MSG)\n"
          ],
          "name": "stderr"
        },
        {
          "output_type": "execute_result",
          "data": {
            "text/plain": [
              "LogisticRegression(C=1.0, class_weight=None, dual=False, fit_intercept=True,\n",
              "                   intercept_scaling=1, l1_ratio=None, max_iter=100,\n",
              "                   multi_class='auto', n_jobs=None, penalty='l2',\n",
              "                   random_state=None, solver='lbfgs', tol=0.0001, verbose=0,\n",
              "                   warm_start=False)"
            ]
          },
          "metadata": {
            "tags": []
          },
          "execution_count": 23
        }
      ]
    },
    {
      "cell_type": "code",
      "metadata": {
        "colab": {
          "base_uri": "https://localhost:8080/"
        },
        "id": "hBPwaoarzyGc",
        "outputId": "1a523444-978f-4cdf-d424-2595983aadae"
      },
      "source": [
        "y_pred=model.predict(x_test)\r\n",
        "y_pred"
      ],
      "execution_count": 25,
      "outputs": [
        {
          "output_type": "execute_result",
          "data": {
            "text/plain": [
              "array([6, 5, 6, 6, 6, 5, 6, 6, 6, 6, 6, 6, 5, 5, 6, 6, 6, 5, 7, 6, 6, 6,\n",
              "       6, 6, 6, 6, 5, 5, 6, 6, 5, 6, 6, 6, 5, 6, 6, 5, 6, 6, 6, 6, 6, 6,\n",
              "       5, 6, 5, 6, 6, 6, 7, 6, 5, 6, 6, 6, 6, 6, 5, 6, 6, 5, 6, 6, 6, 6,\n",
              "       6, 5, 5, 5, 6, 5, 6, 6, 6, 6, 6, 6, 6, 7, 6, 6, 6, 5, 5, 6, 6, 7,\n",
              "       6, 6, 6, 6, 6, 7, 4, 6, 5, 5, 6, 6, 7, 5, 6, 6, 5, 6, 6, 5, 6, 5,\n",
              "       5, 6, 6, 6, 7, 6, 5, 5, 7, 6, 5, 6, 6, 5, 6, 7, 6, 6, 5, 6, 6, 6,\n",
              "       6, 6, 6, 5, 7, 6, 5, 6, 6, 6, 5, 6, 6, 6, 6, 6, 6, 6, 6, 6, 6, 6,\n",
              "       5, 5, 5, 6, 6, 6, 6, 6, 6, 6, 5, 6, 5, 6, 6, 6, 6, 6, 6, 6, 6, 6,\n",
              "       6, 5, 6, 5, 6, 6, 6, 6, 6, 6, 6, 6, 6, 6, 4, 5, 6, 6, 6, 6, 5, 6,\n",
              "       6, 6, 6, 6, 5, 6, 6, 6, 6, 5, 7, 6, 5, 7, 7, 6, 6, 6, 6, 6, 6, 7,\n",
              "       6, 6, 6, 6, 5, 5, 6, 6, 6, 5, 6, 6, 6, 6, 6, 6, 6, 6, 6, 6, 5, 6,\n",
              "       6, 6, 5, 7, 5, 6, 6, 6, 7, 6, 5, 6, 6, 5, 6, 6, 6, 7, 6, 6, 6, 6,\n",
              "       5, 6, 6, 5, 6, 6, 7, 6, 6, 6, 5, 5, 6, 6, 5, 6, 7, 4, 5, 6, 6, 6,\n",
              "       6, 6, 5, 6, 6, 6, 7, 6, 5, 5, 6, 5, 6, 6, 6, 6, 6, 6, 6, 6, 6, 6,\n",
              "       6, 5, 6, 6, 6, 6, 6, 5, 6, 5, 6, 6, 5, 7, 6, 6, 6, 6, 6, 5, 5, 6,\n",
              "       6, 6, 5, 6, 6, 6, 5, 6, 5, 5, 6, 5, 6, 6, 7, 6, 6, 7, 6, 6, 6, 6,\n",
              "       6, 6, 7, 5, 6, 6, 5, 5, 6, 6, 6, 6, 7, 5, 6, 6, 6, 6, 5, 6, 6, 5,\n",
              "       7, 5, 6, 6, 6, 6, 6, 6, 6, 5, 5, 5, 6, 6, 5, 6, 6, 7, 6, 5, 7, 6,\n",
              "       6, 6, 6, 6, 7, 6, 6, 6, 6, 6, 6, 6, 5, 6, 6, 5, 6, 6, 6, 6, 5, 6,\n",
              "       6, 6, 6, 6, 5, 6, 6, 5, 6, 6, 5, 7, 5, 6, 6, 5, 6, 6, 6, 5, 6, 5,\n",
              "       6, 6, 5, 6, 6, 7, 6, 6, 6, 6, 6, 6, 5, 6, 5, 6, 6, 6, 6, 5, 6, 6,\n",
              "       5, 6, 6, 6, 7, 5, 5, 5, 5, 6, 6, 5, 5, 5, 6, 6, 5, 6, 6, 5, 6, 6,\n",
              "       6, 6, 6, 6, 5, 6, 6, 6, 6, 5, 6, 6, 6, 5, 6, 6, 6, 6, 5, 5, 5, 5,\n",
              "       6, 5, 6, 5, 5, 6, 6, 6, 6, 5, 6, 6, 6, 6, 6, 6, 5, 5, 5, 6, 6, 6,\n",
              "       5, 6, 6, 6, 6, 6, 5, 5, 5, 5, 6, 5, 6, 6, 5, 6, 6, 6, 6, 6, 6, 6,\n",
              "       7, 6, 6, 6, 6, 6, 5, 5, 7, 6, 6, 6, 5, 6, 6, 6, 6, 5, 6, 6, 5, 6,\n",
              "       6, 6, 6, 5, 6, 5, 6, 6, 6, 6, 5, 6, 6, 6, 6, 6, 6, 6, 5, 7, 5, 6,\n",
              "       6, 6, 6, 6, 6, 5, 6, 5, 6, 5, 6, 6, 6, 6, 5, 5, 6, 5, 6, 6, 6, 6,\n",
              "       6, 6, 6, 6, 6, 6, 6, 6, 6, 4, 6, 6, 6, 5, 7, 5, 6, 6, 6, 6, 6, 6,\n",
              "       6, 6, 6, 6, 5, 5, 6, 6, 6, 6, 5, 6, 5, 6, 7, 6, 6, 5, 6, 6, 7, 5,\n",
              "       6, 5, 6, 5, 6, 6, 5, 6, 6, 6, 6, 5, 6, 6, 6, 5, 6, 5, 6, 6, 6, 5,\n",
              "       6, 6, 6, 7, 5, 6, 6, 5, 6, 6, 5, 5, 5, 6, 6, 6, 7, 5, 5, 6, 6, 6,\n",
              "       6, 7, 6, 6, 6, 5, 5, 6, 6, 5, 7, 6, 7, 6, 5, 6, 6, 6, 6, 6, 6, 5,\n",
              "       7, 6, 6, 6, 7, 6, 6, 5, 5, 5, 6, 6, 6, 6, 6, 6, 6, 5, 5, 6, 6, 6,\n",
              "       5, 6, 6, 5, 6, 6, 5, 6, 6, 6, 7, 7, 5, 5, 6, 6, 6, 6, 6, 6, 5, 5,\n",
              "       6, 5, 5, 6, 6, 6, 6, 5, 7, 6, 6, 5, 5, 5, 5, 7, 5, 6, 6, 6, 5, 6,\n",
              "       6, 5, 6, 5, 5, 6, 6, 6, 6, 7, 6, 6, 6, 6, 6, 6, 6, 5, 6, 6, 4, 6,\n",
              "       6, 6, 6, 6, 6, 6, 6, 5, 6, 6, 5, 6, 5, 6, 6, 6, 6, 7, 6, 6, 6, 6,\n",
              "       6, 6, 6, 5, 5, 6, 5, 5, 5, 5, 6, 6, 6, 5, 6, 5, 6, 6, 6, 6, 6, 6,\n",
              "       6, 6, 5, 5, 6, 5, 6, 6, 5, 5, 6, 5, 6, 6, 5, 6, 6, 6, 6, 6, 6, 6,\n",
              "       6, 6, 6, 6, 6, 6, 5, 6, 5, 6, 6, 5, 5, 5, 6, 5, 6, 5, 6, 6, 5, 6,\n",
              "       6, 9, 6, 6, 5, 6, 6, 6, 6, 5, 6, 5, 6, 5, 6, 6, 6, 6, 6, 6, 6, 6,\n",
              "       5, 7, 7, 6, 6, 6, 6, 6, 6, 6, 5, 6, 6, 6, 6, 5, 6, 6, 7, 5, 6, 6,\n",
              "       6, 6, 6, 6, 6, 6, 6, 6, 5, 5, 6, 6, 6, 5, 6, 6, 6, 6, 6, 6, 6, 7,\n",
              "       6, 6, 6, 6, 6, 6, 6, 6, 6, 6, 5, 5])"
            ]
          },
          "metadata": {
            "tags": []
          },
          "execution_count": 25
        }
      ]
    },
    {
      "cell_type": "code",
      "metadata": {
        "colab": {
          "base_uri": "https://localhost:8080/"
        },
        "id": "nd5VvSiXz__1",
        "outputId": "d8bc5424-f251-423b-9614-39d760c06934"
      },
      "source": [
        "from sklearn.metrics import confusion_matrix,accuracy_score\r\n",
        "cm=confusion_matrix(y_test,y_pred)\r\n",
        "cm"
      ],
      "execution_count": 26,
      "outputs": [
        {
          "output_type": "execute_result",
          "data": {
            "text/plain": [
              "array([[  0,   0,   5,   4,   0,   0,   0],\n",
              "       [  0,   4,  26,  20,   1,   0,   0],\n",
              "       [  0,   0, 135, 160,   0,   0,   0],\n",
              "       [  0,   1,  65, 330,  12,   0,   1],\n",
              "       [  0,   0,  10, 136,  37,   0,   0],\n",
              "       [  0,   0,   0,  28,   5,   0,   0],\n",
              "       [  0,   0,   0,   0,   0,   0,   0]])"
            ]
          },
          "metadata": {
            "tags": []
          },
          "execution_count": 26
        }
      ]
    },
    {
      "cell_type": "code",
      "metadata": {
        "colab": {
          "base_uri": "https://localhost:8080/"
        },
        "id": "TdFS63Mt0NcD",
        "outputId": "1d0f11d6-d5af-46da-8eab-11e47af38b0b"
      },
      "source": [
        "acc=accuracy_score(y_test,y_pred)\r\n",
        "acc"
      ],
      "execution_count": 27,
      "outputs": [
        {
          "output_type": "execute_result",
          "data": {
            "text/plain": [
              "0.5163265306122449"
            ]
          },
          "metadata": {
            "tags": []
          },
          "execution_count": 27
        }
      ]
    },
    {
      "cell_type": "code",
      "metadata": {
        "colab": {
          "base_uri": "https://localhost:8080/"
        },
        "id": "3bNsdXNj0bjF",
        "outputId": "4f70f60e-a769-4896-d3b0-c3c750a9503f"
      },
      "source": [
        "score=model.score(x_train,y_train)\r\n",
        "score"
      ],
      "execution_count": 28,
      "outputs": [
        {
          "output_type": "execute_result",
          "data": {
            "text/plain": [
              "0.5395610005104645"
            ]
          },
          "metadata": {
            "tags": []
          },
          "execution_count": 28
        }
      ]
    }
  ]
}